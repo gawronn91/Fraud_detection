{
  "cells": [
    {
      "cell_type": "markdown",
      "metadata": {
        "id": "view-in-github",
        "colab_type": "text"
      },
      "source": [
        "<a href=\"https://colab.research.google.com/github/gawronn91/Fraud_detection/blob/main/Model.ipynb\" target=\"_parent\"><img src=\"https://colab.research.google.com/assets/colab-badge.svg\" alt=\"Open In Colab\"/></a>"
      ]
    },
    {
      "cell_type": "markdown",
      "id": "78b80618",
      "metadata": {
        "id": "78b80618"
      },
      "source": [
        "# 1. Introduction"
      ]
    },
    {
      "cell_type": "markdown",
      "id": "b4c2d305",
      "metadata": {
        "id": "b4c2d305"
      },
      "source": [
        "## 1.1 Explaining the notebook details"
      ]
    },
    {
      "cell_type": "markdown",
      "id": "5195f30f",
      "metadata": {
        "id": "5195f30f"
      },
      "source": [
        "The first step of the project was understanding the data and feature engineering made in the [EDA](https://drive.google.com/file/d/1RBTFvEfnKHWFx1GemFA_fc4OLALIjVRN/view?usp=share_link) document<br>\n",
        "After that Cross Validation method was found in the [CV](https://drive.google.com/file/d/10iux2mGq0aV49RCueW32Jsa4Q0PtwGQT/view?usp=share_link) notebook.<br>\n",
        "The best features were selected in the document named [FS](https://drive.google.com/file/d/1vPB3qOO_ZgsDNJkbP3gkobQT61IoH99r/view?usp=share_link).<br>\n",
        "All those operations had basically one main target - to make the model more efficient in fraud detection.<br>\n",
        "And this is the notebook, where we will check the efficiency of the prepared model."
      ]
    },
    {
      "cell_type": "markdown",
      "id": "42015af4",
      "metadata": {
        "id": "42015af4"
      },
      "source": [
        "## 1.2 Importing Necessary Libraries"
      ]
    },
    {
      "cell_type": "code",
      "execution_count": null,
      "id": "ac880a4e",
      "metadata": {
        "id": "ac880a4e"
      },
      "outputs": [],
      "source": [
        "# Data Analysis\n",
        "import pandas as pd\n",
        "import numpy as np\n",
        "\n",
        "# System\n",
        "import os, gc\n",
        "\n",
        "# Math\n",
        "import math\n",
        "\n",
        "#DateTime\n",
        "from datetime import datetime\n",
        "from datetime import timedelta\n",
        "\n",
        "# Data Visualization\n",
        "from matplotlib import pyplot as plt\n",
        "import matplotlib.gridspec as gridspec # to do the grid of plots\n",
        "import seaborn as sns\n",
        "\n",
        "# Machine Learning\n",
        "from sklearn.impute import SimpleImputer\n",
        "from sklearn.model_selection import train_test_split, RepeatedStratifiedKFold, GridSearchCV, KFold, GroupKFold\n",
        "from sklearn import preprocessing\n",
        "from sklearn.preprocessing import StandardScaler, LabelEncoder\n",
        "from imblearn.over_sampling import SMOTE\n",
        "from sklearn.metrics import roc_auc_score, precision_score, recall_score, fbeta_score, confusion_matrix, plot_confusion_matrix, precision_recall_curve, accuracy_score, roc_curve, classification_report\n",
        "from sklearn.ensemble import RandomForestClassifier, RandomForestRegressor\n",
        "import lightgbm as lgb\n",
        "import xgboost as xgb\n",
        "\n",
        "# Dimension reduction\n",
        "from sklearn.decomposition import PCA\n",
        "\n",
        "#Feature selection\n",
        "from boruta import BorutaPy\n",
        "\n",
        "# Warnings\n",
        "import warnings\n",
        "warnings.filterwarnings('ignore')\n",
        "\n",
        "pd.set_option('display.max_columns', None)\n",
        "pd.set_option('display.max_rows', 500)\n",
        "sns.set_theme(style=\"white\")"
      ]
    },
    {
      "cell_type": "markdown",
      "id": "96795704",
      "metadata": {
        "id": "96795704"
      },
      "source": [
        "# 2. Data Loading"
      ]
    },
    {
      "cell_type": "markdown",
      "id": "7133fa49",
      "metadata": {
        "id": "7133fa49"
      },
      "source": [
        "## 2.1 Train and Test datasets"
      ]
    },
    {
      "cell_type": "code",
      "execution_count": null,
      "id": "3861f560",
      "metadata": {
        "id": "3861f560"
      },
      "outputs": [],
      "source": [
        "train_df = pd.read_pickle('/Users/gawro/OneDrive/Pulpit/PJATK/Projekt_wlasny/2tygodnie_do_konca/train_nan(-999).pkl')\n",
        "test_df = pd.read_pickle('/Users/gawro/OneDrive/Pulpit/PJATK/Projekt_wlasny/2tygodnie_do_konca/test_nan(-999).pkl')"
      ]
    },
    {
      "cell_type": "code",
      "execution_count": null,
      "id": "a57c4447",
      "metadata": {
        "id": "a57c4447",
        "outputId": "316d89a6-2543-4dc1-f349-1c46a6779e2b"
      },
      "outputs": [
        {
          "name": "stdout",
          "output_type": "stream",
          "text": [
            "Shape of Train dataset:  (590540, 525)\n",
            "Shape of Test dataset:  (506691, 524)\n"
          ]
        }
      ],
      "source": [
        "print('Shape of Train dataset: ', train_df.shape)\n",
        "print('Shape of Test dataset: ', test_df.shape)"
      ]
    },
    {
      "cell_type": "markdown",
      "id": "cb9c901e",
      "metadata": {
        "id": "cb9c901e"
      },
      "source": [
        "## 2.2 Additional documents generated in different notebooks"
      ]
    },
    {
      "cell_type": "markdown",
      "id": "94e8b823",
      "metadata": {
        "id": "94e8b823"
      },
      "source": [
        "### 2.2.1 Lists of chosen columns from CV file "
      ]
    },
    {
      "cell_type": "code",
      "execution_count": null,
      "id": "b980276a",
      "metadata": {
        "id": "b980276a"
      },
      "outputs": [],
      "source": [
        "void_cols_250 = np.genfromtxt('/Users/gawro/OneDrive/Pulpit/PJATK/Projekt_wlasny/2tygodnie_do_konca/Project_Final/best_250_features.csv', delimiter=',',names=True,dtype=None, encoding=None)\n",
        "void_cols_306 = np.genfromtxt('/Users/gawro/OneDrive/Pulpit/PJATK/Projekt_wlasny/2tygodnie_do_konca/Project_Final/best_306_features.csv', delimiter=',',names=True,dtype=None, encoding=None)\n",
        "void_cols_370 = np.genfromtxt('/Users/gawro/OneDrive/Pulpit/PJATK/Projekt_wlasny/2tygodnie_do_konca/Project_Final/best_370_features.csv', delimiter=',',names=True,dtype=None, encoding=None)"
      ]
    },
    {
      "cell_type": "code",
      "execution_count": null,
      "id": "71543f2f",
      "metadata": {
        "id": "71543f2f"
      },
      "outputs": [],
      "source": [
        "cols_250 = [void_cols_250[i]['D1'] for i in range(len(void_cols_250))]\n",
        "cols_306 = [void_cols_306[i]['D1'] for i in range(len(void_cols_306))]\n",
        "cols_370 = [void_cols_370[i]['D1'] for i in range(len(void_cols_370))]"
      ]
    },
    {
      "cell_type": "markdown",
      "id": "ae944681",
      "metadata": {
        "id": "ae944681"
      },
      "source": [
        "### 2.2.2 Results from previous runs of current document"
      ]
    },
    {
      "cell_type": "markdown",
      "id": "c47edb7e",
      "metadata": {
        "id": "c47edb7e"
      },
      "source": [
        "Due to long time needed for training the model, I used results gathered from previous runs of this document. <br>\n",
        "It will allow to interfere with the notebook without necesity of waiting for model to be trained. <br>\n",
        "On my local machine it takes more than 2000 minutes. "
      ]
    },
    {
      "cell_type": "code",
      "execution_count": null,
      "id": "1dd293ff",
      "metadata": {
        "id": "1dd293ff"
      },
      "outputs": [],
      "source": [
        "void_y_train = np.genfromtxt('/Users/gawro/OneDrive/Pulpit/PJATK/Projekt_wlasny/2tygodnie_do_konca/Project_Final/y_pred250.csv', delimiter=',',names=True,dtype=None, encoding=None)"
      ]
    },
    {
      "cell_type": "code",
      "execution_count": null,
      "id": "8a640b2e",
      "metadata": {
        "id": "8a640b2e"
      },
      "outputs": [],
      "source": [
        "# Actual target variable ('isFraud') from train dataset\n",
        "y_train = [void_y_train[i][0] for i in range(len(void_y_train))]"
      ]
    },
    {
      "cell_type": "code",
      "execution_count": null,
      "id": "456d9b28",
      "metadata": {
        "id": "456d9b28"
      },
      "outputs": [],
      "source": [
        "void_train_preds250 = np.genfromtxt('/Users/gawro/OneDrive/Pulpit/PJATK/Projekt_wlasny/2tygodnie_do_konca/Project_Final/train_preds250.csv', delimiter=',',names=True,dtype=None, encoding=None)\n",
        "void_preds250 = np.genfromtxt('/Users/gawro/OneDrive/Pulpit/PJATK/Projekt_wlasny/2tygodnie_do_konca/Project_Final/preds250.csv', delimiter=',',names=True,dtype=None, encoding=None)"
      ]
    },
    {
      "cell_type": "code",
      "execution_count": null,
      "id": "6384fbbc",
      "metadata": {
        "id": "6384fbbc"
      },
      "outputs": [],
      "source": [
        "# Calculated target variable ('isFraud') for train dataset as a regression - values between 0 and 1 \n",
        "train_preds250 = [void_train_preds250[i][0] for i in range(len(void_train_preds250))]\n",
        "\n",
        "# Calculated target variable ('isFraud') for test dataset as a regression - values between 0 and 1 \n",
        "preds250 = [void_preds250[i][0] for i in range(len(void_preds250))]"
      ]
    },
    {
      "cell_type": "code",
      "execution_count": null,
      "id": "77ba2873",
      "metadata": {
        "id": "77ba2873"
      },
      "outputs": [],
      "source": [
        "void_train_preds306 = np.genfromtxt('/Users/gawro/OneDrive/Pulpit/PJATK/Projekt_wlasny/2tygodnie_do_konca/Project_Final/train_preds306.csv', delimiter=',',names=True,dtype=None, encoding=None)\n",
        "void_preds306 = np.genfromtxt('/Users/gawro/OneDrive/Pulpit/PJATK/Projekt_wlasny/2tygodnie_do_konca/Project_Final/preds306.csv', delimiter=',',names=True,dtype=None, encoding=None)"
      ]
    },
    {
      "cell_type": "code",
      "execution_count": null,
      "id": "3aae4c68",
      "metadata": {
        "id": "3aae4c68"
      },
      "outputs": [],
      "source": [
        "# Calculated target variable ('isFraud') for train dataset as a regression - values between 0 and 1 \n",
        "train_preds306 = [void_train_preds250[i][0] for i in range(len(void_train_preds306))]\n",
        "\n",
        "# Calculated target variable ('isFraud') for test dataset as a regression - values between 0 and 1 \n",
        "preds306 = [void_preds306[i][0] for i in range(len(void_preds306))]"
      ]
    },
    {
      "cell_type": "code",
      "execution_count": null,
      "id": "7a9f37af",
      "metadata": {
        "id": "7a9f37af"
      },
      "outputs": [],
      "source": [
        "void_train_preds370 = np.genfromtxt('/Users/gawro/OneDrive/Pulpit/PJATK/Projekt_wlasny/2tygodnie_do_konca/Project_Final/train_preds370.csv', delimiter=',',names=True,dtype=None, encoding=None)\n",
        "void_preds370 = np.genfromtxt('/Users/gawro/OneDrive/Pulpit/PJATK/Projekt_wlasny/2tygodnie_do_konca/Project_Final/preds370.csv', delimiter=',',names=True,dtype=None, encoding=None)"
      ]
    },
    {
      "cell_type": "code",
      "execution_count": null,
      "id": "40015ed8",
      "metadata": {
        "id": "40015ed8"
      },
      "outputs": [],
      "source": [
        "# Calculated target variable ('isFraud') for train dataset as a regression - values between 0 and 1 \n",
        "train_preds370 = [void_train_preds370[i][0] for i in range(len(void_train_preds250))]\n",
        "\n",
        "# Calculated target variable ('isFraud') for test dataset as a regression - values between 0 and 1\n",
        "preds370 = [void_preds370[i][0] for i in range(len(void_preds370))]"
      ]
    },
    {
      "cell_type": "markdown",
      "id": "d1de1fd5",
      "metadata": {
        "id": "d1de1fd5"
      },
      "source": [
        "### Submission file for Kaggle Competition"
      ]
    },
    {
      "cell_type": "code",
      "execution_count": null,
      "id": "19059354",
      "metadata": {
        "id": "19059354"
      },
      "outputs": [],
      "source": [
        "sample_submission = pd.read_csv('/Users/gawro/OneDrive/Pulpit/PJATK/Projekt_wlasny/sample_submission.csv', index_col='TransactionID')"
      ]
    },
    {
      "cell_type": "markdown",
      "id": "8e4eb235",
      "metadata": {
        "id": "8e4eb235"
      },
      "source": [
        "# 3. XGBoost model"
      ]
    },
    {
      "cell_type": "markdown",
      "id": "4edcb6c7",
      "metadata": {
        "id": "4edcb6c7"
      },
      "source": [
        "## 3.1 Introduction"
      ]
    },
    {
      "cell_type": "markdown",
      "id": "d4cd047b",
      "metadata": {
        "id": "d4cd047b"
      },
      "source": [
        "As a base model, I have chosen XGBoost.<br>\n",
        "XGBoost (eXtreme Gradient Boosting) is an advanced implementation of a gradient boosting algorithm. The main advantages are:\n",
        "* Big efficiency with tabular data\n",
        "* Boosting algorithms are generally good at dealing with imbalanced data, so there is no need to use additional algorithms, like SMOTE\n",
        "* XGBoost has regularization, therefore it also helps to reduce overfitting"
      ]
    },
    {
      "cell_type": "markdown",
      "id": "988cb4d3",
      "metadata": {
        "id": "988cb4d3"
      },
      "source": [
        "In this notebook, I will use 3 datasets with chosen respectively 250, 306, and 370 features chosen in the FS document.<br>\n",
        "Then I will train 3 independent models using Group k-fold Cross Validation, chosen in CV document.<br>\n",
        "Then I will compare the results with each other."
      ]
    },
    {
      "cell_type": "markdown",
      "id": "2814679d",
      "metadata": {
        "id": "2814679d"
      },
      "source": [
        "## 3.2 Model parameters"
      ]
    },
    {
      "cell_type": "markdown",
      "id": "5a68cad4",
      "metadata": {
        "id": "5a68cad4"
      },
      "source": [
        "To find fraud transactions among datasets, I will use the XGB model with the parameters as below:"
      ]
    },
    {
      "cell_type": "code",
      "execution_count": null,
      "id": "c64a94a1",
      "metadata": {
        "id": "c64a94a1"
      },
      "outputs": [],
      "source": [
        "xgb = xgb.XGBClassifier(\n",
        "            n_estimators=5000,\n",
        "            max_depth=12,\n",
        "            learning_rate=0.02,\n",
        "            subsample=0.8,\n",
        "            colsample_bytree=0.4,\n",
        "            missing=-1,\n",
        "            eval_metric='auc',\n",
        "            # USE CPU\n",
        "            nthread=4,\n",
        "            tree_method='hist'\n",
        "            # USE GPU\n",
        "            #tree_method='gpu_hist' \n",
        "        )"
      ]
    },
    {
      "cell_type": "markdown",
      "id": "cc42f412",
      "metadata": {
        "id": "cc42f412"
      },
      "source": [
        "## 3.3 Dataset with 250 columns"
      ]
    },
    {
      "cell_type": "code",
      "execution_count": null,
      "id": "e705eb0b",
      "metadata": {
        "id": "e705eb0b"
      },
      "outputs": [],
      "source": [
        "rm_cols = ['TransactionDT', 'TransactionDT_old']\n",
        "\n",
        "y_train = train_df['isFraud'].copy()\n",
        "cols = [col for col in cols_250 if col not in rm_cols]"
      ]
    },
    {
      "cell_type": "code",
      "execution_count": null,
      "id": "18f5afc5",
      "metadata": {
        "id": "18f5afc5",
        "outputId": "4c3bb7af-87a1-4be9-df4b-dedcad1cbcab"
      },
      "outputs": [
        {
          "name": "stdout",
          "output_type": "stream",
          "text": [
            "Fold 0 withholding month 12\n",
            " rows of train = 456201 rows of holdout = 134339\n",
            "[0]\tvalidation_0-auc:0.76755\n",
            "[100]\tvalidation_0-auc:0.87111\n",
            "[200]\tvalidation_0-auc:0.89030\n",
            "[300]\tvalidation_0-auc:0.89949\n",
            "[400]\tvalidation_0-auc:0.90431\n",
            "[500]\tvalidation_0-auc:0.90707\n",
            "[600]\tvalidation_0-auc:0.90735\n",
            "[700]\tvalidation_0-auc:0.90704\n",
            "[800]\tvalidation_0-auc:0.90738\n",
            "[900]\tvalidation_0-auc:0.90671\n",
            "[1000]\tvalidation_0-auc:0.90671\n",
            "Fold 1 withholding month 3\n",
            " rows of train = 488572 rows of holdout = 101968\n",
            "[0]\tvalidation_0-auc:0.82702\n",
            "[100]\tvalidation_0-auc:0.90130\n",
            "[200]\tvalidation_0-auc:0.92769\n",
            "[300]\tvalidation_0-auc:0.94086\n",
            "[400]\tvalidation_0-auc:0.94454\n",
            "[500]\tvalidation_0-auc:0.94537\n",
            "[600]\tvalidation_0-auc:0.94540\n",
            "[700]\tvalidation_0-auc:0.94523\n",
            "[774]\tvalidation_0-auc:0.94541\n",
            "Fold 2 withholding month 1\n",
            " rows of train = 498030 rows of holdout = 92510\n",
            "[0]\tvalidation_0-auc:0.83613\n",
            "[100]\tvalidation_0-auc:0.90212\n",
            "[200]\tvalidation_0-auc:0.92775\n",
            "[300]\tvalidation_0-auc:0.94071\n",
            "[400]\tvalidation_0-auc:0.94507\n",
            "[500]\tvalidation_0-auc:0.94660\n",
            "[600]\tvalidation_0-auc:0.94676\n",
            "[700]\tvalidation_0-auc:0.94677\n",
            "[800]\tvalidation_0-auc:0.94661\n",
            "[889]\tvalidation_0-auc:0.94651\n",
            "Fold 3 withholding month 5\n",
            " rows of train = 500867 rows of holdout = 89673\n",
            "[0]\tvalidation_0-auc:0.82655\n",
            "[100]\tvalidation_0-auc:0.90016\n",
            "[200]\tvalidation_0-auc:0.92743\n",
            "[300]\tvalidation_0-auc:0.94123\n",
            "[400]\tvalidation_0-auc:0.94525\n",
            "[500]\tvalidation_0-auc:0.94643\n",
            "[600]\tvalidation_0-auc:0.94635\n",
            "[689]\tvalidation_0-auc:0.94608\n",
            "Fold 4 withholding month 2\n",
            " rows of train = 504815 rows of holdout = 85725\n",
            "[0]\tvalidation_0-auc:0.82558\n",
            "[100]\tvalidation_0-auc:0.91776\n",
            "[200]\tvalidation_0-auc:0.94190\n",
            "[300]\tvalidation_0-auc:0.94993\n",
            "[400]\tvalidation_0-auc:0.95175\n",
            "[500]\tvalidation_0-auc:0.95182\n",
            "[589]\tvalidation_0-auc:0.95126\n",
            "Fold 5 withholding month 4\n",
            " rows of train = 504215 rows of holdout = 86325\n",
            "[0]\tvalidation_0-auc:0.81616\n",
            "[100]\tvalidation_0-auc:0.90132\n",
            "[200]\tvalidation_0-auc:0.93512\n",
            "[300]\tvalidation_0-auc:0.95057\n",
            "[400]\tvalidation_0-auc:0.95501\n",
            "[500]\tvalidation_0-auc:0.95647\n",
            "[600]\tvalidation_0-auc:0.95688\n",
            "[700]\tvalidation_0-auc:0.95706\n",
            "[800]\tvalidation_0-auc:0.95761\n",
            "[900]\tvalidation_0-auc:0.95771\n",
            "[1000]\tvalidation_0-auc:0.95761\n",
            "[1020]\tvalidation_0-auc:0.95770\n",
            "\n",
            "\n",
            "ROC AUC score= 0.9409634798356595\n"
          ]
        }
      ],
      "source": [
        "train_preds250 = np.zeros(len(train_df))\n",
        "preds250 = np.zeros(len(test_df))\n",
        "\n",
        "skf = GroupKFold(n_splits=6)\n",
        "for i, (idxT, idxV) in enumerate( skf.split(train_df, y_train, groups=train_df['TransactionDTMonth']) ):\n",
        "    month = train_df.iloc[idxV]['TransactionDTMonth'].iloc[0]\n",
        "    print('Fold',i,'withholding month',month)\n",
        "    print(' rows of train =',len(idxT),'rows of holdout =',len(idxV))\n",
        "    xgb250 = xgb.XGBClassifier(\n",
        "            n_estimators=5000,\n",
        "            max_depth=12,\n",
        "            learning_rate=0.02,\n",
        "            subsample=0.8,\n",
        "            colsample_bytree=0.4,\n",
        "            missing=-1,\n",
        "            eval_metric='auc',\n",
        "            # USE CPU\n",
        "            nthread=4,\n",
        "            tree_method='hist'\n",
        "            # USE GPU\n",
        "            #tree_method='gpu_hist' \n",
        "        )        \n",
        "    xgb250.fit(train_df[cols].iloc[idxT], y_train.iloc[idxT], \n",
        "                eval_set=[(train_df[cols].iloc[idxV],y_train.iloc[idxV])],\n",
        "                verbose=100, early_stopping_rounds=200)\n",
        "    \n",
        "    train_preds250[idxV] += xgb250.predict_proba(train_df[cols].iloc[idxV])[:,1]\n",
        "    preds250 += xgb250.predict_proba(test_df[cols])[:,1]/skf.n_splits\n",
        "    x=gc.collect()\n",
        "print('\\n')\n",
        "print ('ROC AUC score=',roc_auc_score(y_train,train_preds250))"
      ]
    },
    {
      "cell_type": "markdown",
      "id": "a440fbaf",
      "metadata": {
        "id": "a440fbaf"
      },
      "source": [
        "## 3.4 Dataset with 306 columns"
      ]
    },
    {
      "cell_type": "code",
      "execution_count": null,
      "id": "05702640",
      "metadata": {
        "id": "05702640"
      },
      "outputs": [],
      "source": [
        "cols = [col for col in cols_306 if col not in rm_cols]"
      ]
    },
    {
      "cell_type": "code",
      "execution_count": null,
      "id": "71421440",
      "metadata": {
        "id": "71421440",
        "outputId": "4f28b8b8-bf73-43ad-a037-060b32f39f45"
      },
      "outputs": [
        {
          "name": "stdout",
          "output_type": "stream",
          "text": [
            "Fold 0 withholding month 12\n",
            " rows of train = 456201 rows of holdout = 134339\n",
            "[0]\tvalidation_0-auc:0.81854\n",
            "[100]\tvalidation_0-auc:0.86720\n",
            "[200]\tvalidation_0-auc:0.88749\n",
            "[300]\tvalidation_0-auc:0.89863\n",
            "[400]\tvalidation_0-auc:0.90282\n",
            "[500]\tvalidation_0-auc:0.90468\n",
            "[600]\tvalidation_0-auc:0.90589\n",
            "[700]\tvalidation_0-auc:0.90544\n",
            "[800]\tvalidation_0-auc:0.90609\n",
            "[900]\tvalidation_0-auc:0.90576\n",
            "[978]\tvalidation_0-auc:0.90588\n",
            "Fold 1 withholding month 3\n",
            " rows of train = 488572 rows of holdout = 101968\n",
            "[0]\tvalidation_0-auc:0.83515\n",
            "[100]\tvalidation_0-auc:0.90004\n",
            "[200]\tvalidation_0-auc:0.92624\n",
            "[300]\tvalidation_0-auc:0.93978\n",
            "[400]\tvalidation_0-auc:0.94371\n",
            "[500]\tvalidation_0-auc:0.94500\n",
            "[600]\tvalidation_0-auc:0.94539\n",
            "[700]\tvalidation_0-auc:0.94545\n",
            "[800]\tvalidation_0-auc:0.94531\n",
            "[845]\tvalidation_0-auc:0.94519\n",
            "Fold 2 withholding month 1\n",
            " rows of train = 498030 rows of holdout = 92510\n",
            "[0]\tvalidation_0-auc:0.83989\n",
            "[100]\tvalidation_0-auc:0.90241\n",
            "[200]\tvalidation_0-auc:0.92678\n",
            "[300]\tvalidation_0-auc:0.93932\n",
            "[400]\tvalidation_0-auc:0.94355\n",
            "[500]\tvalidation_0-auc:0.94475\n",
            "[600]\tvalidation_0-auc:0.94522\n",
            "[700]\tvalidation_0-auc:0.94524\n",
            "[800]\tvalidation_0-auc:0.94512\n",
            "[824]\tvalidation_0-auc:0.94522\n",
            "Fold 3 withholding month 5\n",
            " rows of train = 500867 rows of holdout = 89673\n",
            "[0]\tvalidation_0-auc:0.83245\n",
            "[100]\tvalidation_0-auc:0.89795\n",
            "[200]\tvalidation_0-auc:0.92416\n",
            "[300]\tvalidation_0-auc:0.94002\n",
            "[400]\tvalidation_0-auc:0.94459\n",
            "[500]\tvalidation_0-auc:0.94561\n",
            "[600]\tvalidation_0-auc:0.94558\n",
            "[700]\tvalidation_0-auc:0.94590\n",
            "[800]\tvalidation_0-auc:0.94556\n",
            "[844]\tvalidation_0-auc:0.94527\n",
            "Fold 4 withholding month 2\n",
            " rows of train = 504815 rows of holdout = 85725\n",
            "[0]\tvalidation_0-auc:0.85704\n",
            "[100]\tvalidation_0-auc:0.91932\n",
            "[200]\tvalidation_0-auc:0.93986\n",
            "[300]\tvalidation_0-auc:0.95048\n",
            "[400]\tvalidation_0-auc:0.95240\n",
            "[500]\tvalidation_0-auc:0.95234\n",
            "[600]\tvalidation_0-auc:0.95180\n",
            "[645]\tvalidation_0-auc:0.95146\n",
            "Fold 5 withholding month 4\n",
            " rows of train = 504215 rows of holdout = 86325\n",
            "[0]\tvalidation_0-auc:0.83542\n",
            "[100]\tvalidation_0-auc:0.90021\n",
            "[200]\tvalidation_0-auc:0.93328\n",
            "[300]\tvalidation_0-auc:0.95038\n",
            "[400]\tvalidation_0-auc:0.95503\n",
            "[500]\tvalidation_0-auc:0.95641\n",
            "[600]\tvalidation_0-auc:0.95680\n",
            "[700]\tvalidation_0-auc:0.95694\n",
            "[800]\tvalidation_0-auc:0.95706\n",
            "[900]\tvalidation_0-auc:0.95724\n",
            "[1000]\tvalidation_0-auc:0.95731\n",
            "[1100]\tvalidation_0-auc:0.95743\n",
            "[1200]\tvalidation_0-auc:0.95738\n",
            "[1300]\tvalidation_0-auc:0.95772\n",
            "[1400]\tvalidation_0-auc:0.95748\n",
            "[1500]\tvalidation_0-auc:0.95752\n",
            "[1513]\tvalidation_0-auc:0.95751\n",
            "\n",
            "\n",
            "ROC AUC score= 0.9402333112608265\n"
          ]
        }
      ],
      "source": [
        "train_preds306 = np.zeros(len(train_df))\n",
        "preds306 = np.zeros(len(test_df))\n",
        "\n",
        "skf = GroupKFold(n_splits=6)\n",
        "for i, (idxT, idxV) in enumerate( skf.split(train_df, y_train, groups=train_df['TransactionDTMonth']) ):\n",
        "    month = train_df.iloc[idxV]['TransactionDTMonth'].iloc[0]\n",
        "    print('Fold',i,'withholding month',month)\n",
        "    print(' rows of train =',len(idxT),'rows of holdout =',len(idxV))\n",
        "    xgb306 = xgb.XGBClassifier(\n",
        "            n_estimators=5000,\n",
        "            max_depth=12,\n",
        "            learning_rate=0.02,\n",
        "            subsample=0.8,\n",
        "            colsample_bytree=0.4,\n",
        "            missing=-1,\n",
        "            eval_metric='auc',\n",
        "            # USE CPU\n",
        "            nthread=4,\n",
        "            tree_method='hist'\n",
        "            # USE GPU\n",
        "            #tree_method='gpu_hist' \n",
        "        )        \n",
        "    xgb306.fit(train_df[cols].iloc[idxT], y_train.iloc[idxT], \n",
        "                eval_set=[(train_df[cols].iloc[idxV],y_train.iloc[idxV])],\n",
        "                verbose=100, early_stopping_rounds=200)\n",
        "    \n",
        "    train_preds306[idxV] += xgb306.predict_proba(train_df[cols].iloc[idxV])[:,1]\n",
        "    preds306 += xgb306.predict_proba(test_df[cols])[:,1]/skf.n_splits\n",
        "    x=gc.collect()\n",
        "print('\\n')\n",
        "print ('ROC AUC score=',roc_auc_score(y_train,train_preds306))"
      ]
    },
    {
      "cell_type": "markdown",
      "id": "aa1fe623",
      "metadata": {
        "id": "aa1fe623"
      },
      "source": [
        "## 3.5 Dataset with 370 columns"
      ]
    },
    {
      "cell_type": "markdown",
      "id": "c6f7600c",
      "metadata": {
        "id": "c6f7600c"
      },
      "source": [
        "Due to long calculating time, I was forced to use only results with 250 and 306 features."
      ]
    },
    {
      "cell_type": "code",
      "execution_count": null,
      "id": "082c5372",
      "metadata": {
        "id": "082c5372"
      },
      "outputs": [],
      "source": [
        "# cols = [col for col in cols_370 if col not in rm_cols]"
      ]
    },
    {
      "cell_type": "code",
      "execution_count": null,
      "id": "d380c3dd",
      "metadata": {
        "id": "d380c3dd"
      },
      "outputs": [],
      "source": [
        "# train_preds370 = np.zeros(len(train_df))\n",
        "# preds370 = np.zeros(len(test_df))\n",
        "\n",
        "# skf = GroupKFold(n_splits=6)\n",
        "# for i, (idxT, idxV) in enumerate( skf.split(train_df, y_train, groups=train_df['TransactionDTMonth']) ):\n",
        "#     month = train_df.iloc[idxV]['TransactionDTMonth'].iloc[0]\n",
        "#     print('Fold',i,'withholding month',month)\n",
        "#     print(' rows of train =',len(idxT),'rows of holdout =',len(idxV))\n",
        "#     xgb370 = xgb.XGBClassifier(\n",
        "#             n_estimators=5000,\n",
        "#             max_depth=12,\n",
        "#             learning_rate=0.02,\n",
        "#             subsample=0.8,\n",
        "#             colsample_bytree=0.4,\n",
        "#             missing=-1,\n",
        "#             eval_metric='auc',\n",
        "#             # USE CPU\n",
        "#             nthread=4,\n",
        "#             tree_method='hist'\n",
        "#             # USE GPU\n",
        "#             #tree_method='gpu_hist' \n",
        "#         )        \n",
        "#     xgb370.fit(train_df[cols].iloc[idxT], y_train.iloc[idxT], \n",
        "#                 eval_set=[(train_df[cols].iloc[idxV],y_train.iloc[idxV])],\n",
        "#                 verbose=100, early_stopping_rounds=200)\n",
        "    \n",
        "#     train_preds370[idxV] += xgb370.predict_proba(train_df[cols].iloc[idxV])[:,1]\n",
        "#     xgb370 += xgb370.predict_proba(test_df[cols])[:,1]/skf.n_splits\n",
        "#     x=gc.collect()\n",
        "# print('\\n')\n",
        "# print ('ROC AUC score=',roc_auc_score(y_train,train_preds370))"
      ]
    },
    {
      "cell_type": "markdown",
      "id": "cb92379d",
      "metadata": {
        "id": "cb92379d"
      },
      "source": [
        "# 4 Analysis of the results"
      ]
    },
    {
      "cell_type": "code",
      "execution_count": null,
      "id": "c71fe28b",
      "metadata": {
        "id": "c71fe28b"
      },
      "outputs": [],
      "source": [
        "def print_results(true_value, pred):\n",
        "    print(\"accuracy: {}\".format(accuracy_score(true_value, pred)))\n",
        "    print(\"precision: {}\".format(precision_score(true_value, pred)))\n",
        "    print(\"recall: {}\".format(recall_score(true_value, pred)))\n",
        "    print(\"f2: {}\".format(fbeta_score(true_value, pred, beta=2)))\n",
        "    print('#'*20)"
      ]
    },
    {
      "cell_type": "markdown",
      "id": "1dd445aa",
      "metadata": {
        "id": "1dd445aa"
      },
      "source": [
        "## 4.1 Dataset with 250 columns"
      ]
    },
    {
      "cell_type": "code",
      "execution_count": null,
      "id": "2838f25e",
      "metadata": {
        "id": "2838f25e"
      },
      "outputs": [],
      "source": [
        "y_pred250 = []\n",
        "for i in range(10):\n",
        "   y_pred250.append(np.where(train_preds250<(i+1)/10, 0, 1))"
      ]
    },
    {
      "cell_type": "code",
      "execution_count": null,
      "id": "ec6fe527",
      "metadata": {
        "id": "ec6fe527",
        "outputId": "1f7f76f3-169b-4c08-f282-5f42b0fd50a5"
      },
      "outputs": [
        {
          "name": "stdout",
          "output_type": "stream",
          "text": [
            "Iteration for Threshold = 0.1\n",
            "[[561546   8331]\n",
            " [  7576  13087]]\n",
            "####################\n",
            "Iteration for Threshold = 0.2\n",
            "[[566168   3709]\n",
            " [  9277  11386]]\n",
            "####################\n",
            "Iteration for Threshold = 0.3\n",
            "[[567647   2230]\n",
            " [ 10217  10446]]\n",
            "####################\n",
            "Iteration for Threshold = 0.4\n",
            "[[568486   1391]\n",
            " [ 10995   9668]]\n",
            "####################\n",
            "Iteration for Threshold = 0.5\n",
            "[[568895    982]\n",
            " [ 11723   8940]]\n",
            "####################\n",
            "Iteration for Threshold = 0.6\n",
            "[[569146    731]\n",
            " [ 12458   8205]]\n",
            "####################\n",
            "Iteration for Threshold = 0.7\n",
            "[[569341    536]\n",
            " [ 13202   7461]]\n",
            "####################\n",
            "Iteration for Threshold = 0.8\n",
            "[[569501    376]\n",
            " [ 14171   6492]]\n",
            "####################\n",
            "Iteration for Threshold = 0.9\n",
            "[[569688    189]\n",
            " [ 15616   5047]]\n",
            "####################\n",
            "Iteration for Threshold = 1.0\n",
            "[[569877      0]\n",
            " [ 20663      0]]\n",
            "####################\n"
          ]
        }
      ],
      "source": [
        "for i in range(10):\n",
        "    print('Iteration for Threshold =', ((i+1)/10))\n",
        "    print(confusion_matrix(y_train, y_pred250[i]), end='\\n')\n",
        "    print('#'*20)"
      ]
    },
    {
      "cell_type": "code",
      "execution_count": null,
      "id": "592579be",
      "metadata": {
        "id": "592579be",
        "outputId": "a6a46b3a-d175-4e8a-8d70-64831472dd47"
      },
      "outputs": [
        {
          "name": "stdout",
          "output_type": "stream",
          "text": [
            "Iteration for Threshold = 0.1\n",
            "accuracy: 0.973063636671521\n",
            "precision: 0.6110281071995518\n",
            "recall: 0.6333543047960122\n",
            "f2: 0.6287594888056116\n",
            "####################\n",
            "Iteration for Threshold = 0.2\n",
            "accuracy: 0.978009956988519\n",
            "precision: 0.7542894998343822\n",
            "recall: 0.5510332478342932\n",
            "f2: 0.5824219669145856\n",
            "####################\n",
            "Iteration for Threshold = 0.3\n",
            "accuracy: 0.9789226809360924\n",
            "precision: 0.8240769958977595\n",
            "recall: 0.5055413057155301\n",
            "f2: 0.54789778449144\n",
            "####################\n",
            "Iteration for Threshold = 0.4\n",
            "accuracy: 0.9790259762251499\n",
            "precision: 0.8742200922325708\n",
            "recall: 0.467889464259788\n",
            "f2: 0.5158412566294245\n",
            "####################\n",
            "Iteration for Threshold = 0.5\n",
            "accuracy: 0.9784857926643411\n",
            "precision: 0.9010280185446482\n",
            "recall: 0.4326574069592992\n",
            "f2: 0.48285695767710163\n",
            "####################\n",
            "Iteration for Threshold = 0.6\n",
            "accuracy: 0.9776662038134589\n",
            "precision: 0.9181960608773501\n",
            "recall: 0.39708657987707496\n",
            "f2: 0.44792985980696165\n",
            "####################\n",
            "Iteration for Threshold = 0.7\n",
            "accuracy: 0.9767365462119416\n",
            "precision: 0.9329748655745904\n",
            "recall: 0.3610801916469051\n",
            "f2: 0.41153239417974824\n",
            "####################\n",
            "Iteration for Threshold = 0.8\n",
            "accuracy: 0.9753666136078843\n",
            "precision: 0.9452533488642982\n",
            "recall: 0.31418477471809514\n",
            "f2: 0.3626005361930295\n",
            "####################\n",
            "Iteration for Threshold = 0.9\n",
            "accuracy: 0.9732363599417483\n",
            "precision: 0.963903743315508\n",
            "recall: 0.2442530126312733\n",
            "f2: 0.28712679774258143\n",
            "####################\n",
            "Iteration for Threshold = 1.0\n",
            "accuracy: 0.9650099908558268\n",
            "precision: 0.0\n",
            "recall: 0.0\n",
            "f2: 0.0\n",
            "####################\n"
          ]
        }
      ],
      "source": [
        "for i in range(10):\n",
        "    print('Iteration for Threshold =', ((i+1)/10))\n",
        "    print_results(y_train, y_pred250[i])"
      ]
    },
    {
      "cell_type": "code",
      "execution_count": null,
      "id": "739fd536",
      "metadata": {
        "id": "739fd536",
        "outputId": "5172b451-6549-41d2-a3cf-892eb8612624"
      },
      "outputs": [
        {
          "data": {
            "text/plain": [
              "[<matplotlib.lines.Line2D at 0x14e1edbd310>]"
            ]
          },
          "execution_count": 27,
          "metadata": {},
          "output_type": "execute_result"
        },
        {
          "data": {
            "image/png": "[encoded data removed]",
            "text/plain": [
              "<Figure size 640x480 with 1 Axes>"
            ]
          },
          "metadata": {},
          "output_type": "display_data"
        }
      ],
      "source": [
        "precision250, recall250, thresholds250 = precision_recall_curve(y_train, train_preds250)\n",
        "plt.plot(recall250, precision250, marker='.', label='Logistic')"
      ]
    },
    {
      "cell_type": "markdown",
      "id": "3134db98",
      "metadata": {
        "id": "3134db98"
      },
      "source": [
        "Saving the results:"
      ]
    },
    {
      "cell_type": "code",
      "execution_count": null,
      "id": "c47a8351",
      "metadata": {
        "id": "c47a8351"
      },
      "outputs": [],
      "source": [
        "np.savetxt(\"y_train.csv\", np.asarray(y_train), delimiter=\",\", fmt='%s')\n",
        "np.savetxt(\"train_preds250.csv\", np.asarray(train_preds250), delimiter=\",\", fmt='%s')\n",
        "np.savetxt(\"preds250.csv\", np.asarray(preds250), delimiter=\",\", fmt='%s')"
      ]
    },
    {
      "cell_type": "markdown",
      "id": "d3b321c8",
      "metadata": {
        "id": "d3b321c8"
      },
      "source": [
        "Making the submission:"
      ]
    },
    {
      "cell_type": "code",
      "execution_count": null,
      "id": "7fda73d5",
      "metadata": {
        "id": "7fda73d5"
      },
      "outputs": [],
      "source": [
        "sample_submission['isFraud'] = preds250\n",
        "sample_submission.to_csv('sample_submission.csv')"
      ]
    },
    {
      "cell_type": "markdown",
      "id": "ef0714a6",
      "metadata": {
        "id": "ef0714a6"
      },
      "source": [
        "Kaggle result: 0.942611"
      ]
    },
    {
      "cell_type": "markdown",
      "id": "ccc67ebe",
      "metadata": {
        "id": "ccc67ebe"
      },
      "source": [
        "## 4.2 Dataset with 306 columns"
      ]
    },
    {
      "cell_type": "code",
      "execution_count": null,
      "id": "a69fa661",
      "metadata": {
        "id": "a69fa661"
      },
      "outputs": [],
      "source": [
        "y_pred306 = []\n",
        "for i in range(10):\n",
        "   y_pred306.append(np.where(train_preds306<(i+1)/10, 0, 1))"
      ]
    },
    {
      "cell_type": "code",
      "execution_count": null,
      "id": "236073cc",
      "metadata": {
        "id": "236073cc",
        "outputId": "fdc1e52e-3835-4889-f4c6-7190077db0a8"
      },
      "outputs": [
        {
          "name": "stdout",
          "output_type": "stream",
          "text": [
            "Iteration for Threshold = 0.1\n",
            "[[562187   7690]\n",
            " [  7733  12930]]\n",
            "####################\n",
            "Iteration for Threshold = 0.2\n",
            "[[566531   3346]\n",
            " [  9280  11383]]\n",
            "####################\n",
            "Iteration for Threshold = 0.3\n",
            "[[567955   1922]\n",
            " [ 10213  10450]]\n",
            "####################\n",
            "Iteration for Threshold = 0.4\n",
            "[[568608   1269]\n",
            " [ 10954   9709]]\n",
            "####################\n",
            "Iteration for Threshold = 0.5\n",
            "[[568927    950]\n",
            " [ 11652   9011]]\n",
            "####################\n",
            "Iteration for Threshold = 0.6\n",
            "[[569160    717]\n",
            " [ 12292   8371]]\n",
            "####################\n",
            "Iteration for Threshold = 0.7\n",
            "[[569335    542]\n",
            " [ 13089   7574]]\n",
            "####################\n",
            "Iteration for Threshold = 0.8\n",
            "[[569479    398]\n",
            " [ 13955   6708]]\n",
            "####################\n",
            "Iteration for Threshold = 0.9\n",
            "[[569668    209]\n",
            " [ 15422   5241]]\n",
            "####################\n",
            "Iteration for Threshold = 1.0\n",
            "[[569877      0]\n",
            " [ 20663      0]]\n",
            "####################\n"
          ]
        }
      ],
      "source": [
        "for i in range(10):\n",
        "    print('Iteration for Threshold =', ((i+1)/10))\n",
        "    print(confusion_matrix(y_train, y_pred306[i]), end='\\n')\n",
        "    print('#'*20)"
      ]
    },
    {
      "cell_type": "code",
      "execution_count": null,
      "id": "b8dd9734",
      "metadata": {
        "id": "b8dd9734",
        "outputId": "0783b2af-e922-4b94-955d-71764fd63bd4"
      },
      "outputs": [
        {
          "name": "stdout",
          "output_type": "stream",
          "text": [
            "Iteration for Threshold = 0.1\n",
            "accuracy: 0.9738832255224033\n",
            "precision: 0.6270611057225994\n",
            "recall: 0.6257561825485167\n",
            "f2: 0.6260167325122008\n",
            "####################\n",
            "Iteration for Threshold = 0.2\n",
            "accuracy: 0.9786195685304975\n",
            "precision: 0.7728291126349379\n",
            "recall: 0.550888060784978\n",
            "f2: 0.5844569269159282\n",
            "####################\n",
            "Iteration for Threshold = 0.3\n",
            "accuracy: 0.9794510109391404\n",
            "precision: 0.8446492078887812\n",
            "recall: 0.5057348884479504\n",
            "f2: 0.5498610877252061\n",
            "####################\n",
            "Iteration for Threshold = 0.4\n",
            "accuracy: 0.9793019947844346\n",
            "precision: 0.8844051739843323\n",
            "recall: 0.4698736872670958\n",
            "f2: 0.5184769838726904\n",
            "####################\n",
            "Iteration for Threshold = 0.5\n",
            "accuracy: 0.9786602092999628\n",
            "precision: 0.9046280493926313\n",
            "recall: 0.436093500459759\n",
            "f2: 0.4864867783140596\n",
            "####################\n",
            "Iteration for Threshold = 0.6\n",
            "accuracy: 0.9779710095844482\n",
            "precision: 0.9211047535211268\n",
            "recall: 0.4051202632725161\n",
            "f2: 0.4562350119904077\n",
            "####################\n",
            "Iteration for Threshold = 0.7\n",
            "accuracy: 0.9769177363091408\n",
            "precision: 0.9332183341547561\n",
            "recall: 0.36654890383777766\n",
            "f2: 0.41721752159351316\n",
            "####################\n",
            "Iteration for Threshold = 0.8\n",
            "accuracy: 0.9756951264943949\n",
            "precision: 0.9439909935265972\n",
            "recall: 0.3246382422687896\n",
            "f2: 0.3736714276164798\n",
            "####################\n",
            "Iteration for Threshold = 0.9\n",
            "accuracy: 0.9735310055203712\n",
            "precision: 0.961651376146789\n",
            "recall: 0.25364177515365627\n",
            "f2: 0.29743933168373016\n",
            "####################\n",
            "Iteration for Threshold = 1.0\n",
            "accuracy: 0.9650099908558268\n",
            "precision: 0.0\n",
            "recall: 0.0\n",
            "f2: 0.0\n",
            "####################\n"
          ]
        }
      ],
      "source": [
        "for i in range(10):\n",
        "    print('Iteration for Threshold =', ((i+1)/10))\n",
        "    print_results(y_train, y_pred306[i])"
      ]
    },
    {
      "cell_type": "code",
      "execution_count": null,
      "id": "d933f215",
      "metadata": {
        "id": "d933f215",
        "outputId": "259e7242-014f-4d52-8ed2-f063fdb841c5"
      },
      "outputs": [
        {
          "data": {
            "text/plain": [
              "[<matplotlib.lines.Line2D at 0x14e9ec92d30>]"
            ]
          },
          "execution_count": 42,
          "metadata": {},
          "output_type": "execute_result"
        },
        {
          "data": {
            "image/png": "[encoded data removed]",
            "text/plain": [
              "<Figure size 640x480 with 1 Axes>"
            ]
          },
          "metadata": {},
          "output_type": "display_data"
        }
      ],
      "source": [
        "precision306, recall306, thresholds306 = precision_recall_curve(y_train, train_preds306)\n",
        "plt.plot(recall306, precision306, marker='.', label='Logistic')"
      ]
    },
    {
      "cell_type": "markdown",
      "id": "14ed2265",
      "metadata": {
        "id": "14ed2265"
      },
      "source": [
        "Saving the results:"
      ]
    },
    {
      "cell_type": "code",
      "execution_count": null,
      "id": "41761bd8",
      "metadata": {
        "id": "41761bd8"
      },
      "outputs": [],
      "source": [
        "np.savetxt(\"train_preds306.csv\", np.asarray(train_preds306), delimiter=\",\", fmt='%s')\n",
        "np.savetxt(\"preds306.csv\", np.asarray(preds306), delimiter=\",\", fmt='%s')"
      ]
    },
    {
      "cell_type": "markdown",
      "id": "f68414ce",
      "metadata": {
        "id": "f68414ce"
      },
      "source": [
        "Making the submission:"
      ]
    },
    {
      "cell_type": "code",
      "execution_count": null,
      "id": "39d36c52",
      "metadata": {
        "id": "39d36c52"
      },
      "outputs": [],
      "source": [
        "sample_submission['isFraud'] = preds306\n",
        "sample_submission.to_csv('sample_submission.csv')"
      ]
    },
    {
      "cell_type": "markdown",
      "id": "6ee33f69",
      "metadata": {
        "id": "6ee33f69"
      },
      "source": [
        "Kaggle result: 0.942958"
      ]
    },
    {
      "cell_type": "markdown",
      "id": "f2be4593",
      "metadata": {
        "id": "f2be4593"
      },
      "source": [
        "## 4.3 Dataset with 370 columns"
      ]
    },
    {
      "cell_type": "code",
      "execution_count": null,
      "id": "b30db5b7",
      "metadata": {
        "id": "b30db5b7"
      },
      "outputs": [],
      "source": [
        "# y_pred370 = []\n",
        "# for i in range(10):\n",
        "#    y_pred306.append(np.where(train_preds306<(i+1)/10, 0, 1))"
      ]
    },
    {
      "cell_type": "code",
      "execution_count": null,
      "id": "04fbc770",
      "metadata": {
        "id": "04fbc770"
      },
      "outputs": [],
      "source": [
        "# for i in range(10):\n",
        "#     print('iteration for Threshold =', ((i+1)/10))\n",
        "#     print(confusion_matrix(y_train, y_pred370[i]), end='\\n')\n",
        "#     print('#'*20)"
      ]
    },
    {
      "cell_type": "code",
      "execution_count": null,
      "id": "6730135d",
      "metadata": {
        "id": "6730135d"
      },
      "outputs": [],
      "source": [
        "# for i in range(10):\n",
        "#     print_results(y_train, y_pred370[i])"
      ]
    },
    {
      "cell_type": "code",
      "execution_count": null,
      "id": "19164071",
      "metadata": {
        "id": "19164071"
      },
      "outputs": [],
      "source": [
        "# precision370, recall370, thresholds370 = precision_recall_curve(y_train, train_preds370)\n",
        "# plt.plot(recall370, precision370, marker='.', label='Logistic')"
      ]
    },
    {
      "cell_type": "markdown",
      "id": "b4ffda5a",
      "metadata": {
        "id": "b4ffda5a"
      },
      "source": [
        "Saving the results:"
      ]
    },
    {
      "cell_type": "code",
      "execution_count": null,
      "id": "3b622e7a",
      "metadata": {
        "id": "3b622e7a"
      },
      "outputs": [],
      "source": [
        "# np.savetxt(\"train_preds370.csv\", np.asarray(train_preds370), delimiter=\",\", fmt='%s')\n",
        "# np.savetxt(\"preds370.csv\", np.asarray(preds370), delimiter=\",\", fmt='%s')"
      ]
    },
    {
      "cell_type": "markdown",
      "id": "6ba2e607",
      "metadata": {
        "id": "6ba2e607"
      },
      "source": [
        "Making the submission:"
      ]
    },
    {
      "cell_type": "code",
      "execution_count": null,
      "id": "1c96fc54",
      "metadata": {
        "id": "1c96fc54"
      },
      "outputs": [],
      "source": [
        "# sample_submission['isFraud'] = preds370\n",
        "# sample_submission.to_csv('sample_submission.csv')"
      ]
    },
    {
      "cell_type": "markdown",
      "id": "bad768c9",
      "metadata": {
        "id": "bad768c9"
      },
      "source": [
        "## 4.4 Final analysis"
      ]
    },
    {
      "cell_type": "markdown",
      "id": "51d75366",
      "metadata": {
        "id": "51d75366"
      },
      "source": [
        "We can see, that model is rather better with precision than with recall with its precision peak at over 96%. <br>\n",
        "Nevertheless, the respective recall value is around 25%, which is rather small. <br>\n",
        "Using a model settled to those values would be very efficient in being precise with detecting frauds, finding over 5 000 fraud transactions with only 189 normal transactions considered as fraud attempts. <br>\n",
        "<br>\n",
        "But this approach is associated with a large number of undetected frauds, which is over 15 000!<br>\n",
        "If our target is to find as many fraud attempts, as possible, this model will not fit well.<br>\n",
        "<br>\n",
        "We could lower that number by using different thresholds, but it will cause increasing ofType I Error observations.<br>\n",
        "Iteration with the highest f2 score with a value of 0.58 returns 75% of precision and 55% of recall.<br>\n",
        "On the other hand biggest accuracy (98%) is for another threshold with 87% of precision and 47% of recall.<br>\n",
        "<br>\n",
        "Generally model is much more efficient with high precision and low recall."
      ]
    },
    {
      "cell_type": "markdown",
      "id": "9af3d642",
      "metadata": {
        "id": "9af3d642"
      },
      "source": [
        "It gives one important conclusion that we need to play with thresholds, to get values, which best fit to business strategy for the used model.<br>\n",
        "Of course, there is also a very big field of regulating the model, by using different hyperparameters.<br>\n",
        "I will use this approach for future tuning of the model, but it takes much time due to long calculations."
      ]
    },
    {
      "cell_type": "markdown",
      "id": "8e8cac96",
      "metadata": {
        "id": "8e8cac96"
      },
      "source": [
        "Of course, there is a question, of how better the model can be. And the answer isn't so simple.<br>\n",
        "Looking at the results and ROC AUC curve it is easy to say, that model isn't performing very well. <br>\n",
        "<br>\n",
        "But after a deeper look, we can see that the problem itself causes, that detecting all frauds is impossible.<br>\n",
        "There are many frauds, which fit one of the patterns, mentioned in the EDA notebook. <br>\n",
        "But on the other hand, new methods of fraud are discovered and it needs time for a model to detect a new pattern. <br>\n",
        "<br>\n",
        "Additionally, there are plenty of fraud attempts unable of being detected, such as simply using someone else's card for casual shopping. <br>\n",
        "The algorithm just cannot know, that someone's card has been stolen or lost and then used in some local store. <br>\n",
        "<br>\n",
        "Nevertheless, by comparing results with different Kaggle submissions, I can say that model is performing really well.<br>\n",
        "it was rather high on a leaderboard. Without applying many possible ways of upgrading the model."
      ]
    }
  ],
  "metadata": {
    "kernelspec": {
      "display_name": "Python 3 (ipykernel)",
      "language": "python",
      "name": "python3"
    },
    "language_info": {
      "codemirror_mode": {
        "name": "ipython",
        "version": 3
      },
      "file_extension": ".py",
      "mimetype": "text/x-python",
      "name": "python",
      "nbconvert_exporter": "python",
      "pygments_lexer": "ipython3",
      "version": "3.9.13"
    },
    "vscode": {
      "interpreter": {
        "hash": "11868f824339c46669a6415cc024cad36cfb5d2d08e7bc1818bc5ca3972ea70a"
      }
    },
    "colab": {
      "provenance": [],
      "include_colab_link": true
    }
  },
  "nbformat": 4,
  "nbformat_minor": 5
}